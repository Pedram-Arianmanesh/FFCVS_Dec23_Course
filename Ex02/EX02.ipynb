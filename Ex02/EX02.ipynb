{
 "cells": [
  {
   "cell_type": "markdown",
   "id": "e287c68b",
   "metadata": {},
   "source": [
    "# Exercise 01 \n",
    "## The following is a list of 10 students ages:\n",
    "## ages = [19, 22, 19, 24, 20, 25, 26, 24, 25, 24]"
   ]
  },
  {
   "cell_type": "markdown",
   "id": "a86073be",
   "metadata": {},
   "source": [
    "### 1.1 Sort the list and find the min and max age."
   ]
  },
  {
   "cell_type": "code",
   "execution_count": 40,
   "id": "0bc6ba80",
   "metadata": {},
   "outputs": [
    {
     "name": "stdout",
     "output_type": "stream",
     "text": [
      "[19, 19, 20, 22, 24, 24, 24, 25, 25, 26]\n"
     ]
    }
   ],
   "source": [
    "ages = [19, 22, 19, 24, 20, 25, 26, 24, 25, 24]\n",
    "ages = sorted(ages) #reassign ages in sorted form\n",
    "print(ages)"
   ]
  },
  {
   "cell_type": "markdown",
   "id": "67130a13",
   "metadata": {},
   "source": [
    "### 1.2 Add the min age and the max age again to the list."
   ]
  },
  {
   "cell_type": "code",
   "execution_count": 41,
   "id": "3e2412b4",
   "metadata": {},
   "outputs": [
    {
     "name": "stdout",
     "output_type": "stream",
     "text": [
      "[19, 19, 20, 22, 24, 24, 24, 25, 25, 26, 19, 26]\n"
     ]
    }
   ],
   "source": [
    "ages.append(min(ages))\n",
    "ages.append(max(ages))\n",
    "print(ages)"
   ]
  },
  {
   "cell_type": "markdown",
   "id": "60769f9a",
   "metadata": {},
   "source": [
    "### 1.3 Find the median age (one middle item or two middle items divided by two)."
   ]
  },
  {
   "cell_type": "code",
   "execution_count": 53,
   "id": "aeee220e",
   "metadata": {},
   "outputs": [
    {
     "name": "stdout",
     "output_type": "stream",
     "text": [
      "Median of thes list is:24.0\n"
     ]
    }
   ],
   "source": [
    "ages = [19, 22, 19, 24, 20, 25, 26, 24, 25, 24] #I considered first form of list\n",
    "ages = sorted(ages) #reassign ages in sorted form to find median\n",
    "x = int(len(ages))\n",
    "if x%2 == 0:\n",
    "    print('Median of thes list is:{0}'.format((ages[x//2]+ages[x//2-1])/2))\n",
    "else:\n",
    "    print('Median of thes list is:{0}'.format(ages[x//2]))\n",
    "#we could also use median method by importing statistics library:\n",
    "#import statistics\n",
    "#print(statistics.median(ages))"
   ]
  },
  {
   "cell_type": "markdown",
   "id": "67c18926",
   "metadata": {},
   "source": [
    "### 1.4 Find the average age (sum of all items divided by their number )."
   ]
  },
  {
   "cell_type": "code",
   "execution_count": 56,
   "id": "7943581b",
   "metadata": {},
   "outputs": [
    {
     "name": "stdout",
     "output_type": "stream",
     "text": [
      "22.8\n"
     ]
    }
   ],
   "source": [
    "#I considered first form of list\n",
    "sum_age = int()\n",
    "for i in ages:\n",
    "    sum_age += i\n",
    "print(sum_age/len(ages))\n",
    "#Or we could use .mean method of statistics library"
   ]
  },
  {
   "cell_type": "markdown",
   "id": "7478d0c0",
   "metadata": {},
   "source": [
    "### 1.5 Find the range of the ages (max minus min)."
   ]
  },
  {
   "cell_type": "code",
   "execution_count": 57,
   "id": "eb58cf8e",
   "metadata": {},
   "outputs": [
    {
     "name": "stdout",
     "output_type": "stream",
     "text": [
      "7\n"
     ]
    }
   ],
   "source": [
    "#I considered first form of list\n",
    "range_ages = max(ages) - min(ages)\n",
    "print(range_ages)"
   ]
  },
  {
   "cell_type": "markdown",
   "id": "e28a5d32",
   "metadata": {},
   "source": [
    "### 1.6 Compare the value of (min - average) and (max - average), use abs() method."
   ]
  },
  {
   "cell_type": "code",
   "execution_count": 59,
   "id": "77cd58bf",
   "metadata": {},
   "outputs": [
    {
     "name": "stdout",
     "output_type": "stream",
     "text": [
      "abs(min - average) is grater than abs(max - average)\n"
     ]
    }
   ],
   "source": [
    "#I considered first form of list\n",
    "min_ages = min(ages)\n",
    "max_ages = max(ages)\n",
    "avr_ages = sum_age/len(ages)\n",
    "if abs(min_ages - avr_ages) > (max_ages - avr_ages):\n",
    "    print('abs(min - average) is grater than abs(max - average)')\n",
    "elif abs(min_ages - avr_ages) > (max_ages - avr_ages):\n",
    "    print('abs(min - average) is lesser than abs(max - average)')\n",
    "else:\n",
    "    print('abs(min - average) is equal to abs(max - average)')"
   ]
  },
  {
   "cell_type": "markdown",
   "id": "55157d21",
   "metadata": {},
   "source": [
    "# Exercise 02"
   ]
  },
  {
   "cell_type": "markdown",
   "id": "9fb3267a",
   "metadata": {},
   "source": [
    "### 2.1 Create an empty tuple"
   ]
  },
  {
   "cell_type": "code",
   "execution_count": 3,
   "id": "8dcfd055",
   "metadata": {},
   "outputs": [
    {
     "name": "stdout",
     "output_type": "stream",
     "text": [
      "<class 'tuple'>\n"
     ]
    }
   ],
   "source": [
    "empty_t = tuple()\n",
    "# or empty_t = ()\n",
    "print(type(empty_t))"
   ]
  },
  {
   "cell_type": "markdown",
   "id": "a608c727",
   "metadata": {},
   "source": [
    "### 2.2 Create a tuple containing names of your sisters and your brothers, separately (imaginary siblings are fine) "
   ]
  },
  {
   "cell_type": "code",
   "execution_count": 77,
   "id": "b3775f60",
   "metadata": {},
   "outputs": [],
   "source": [
    "sisters = ('Melika', 'Narges')\n",
    "brothers = ('AmirAli', 'Aria')"
   ]
  },
  {
   "cell_type": "markdown",
   "id": "e97887c5",
   "metadata": {},
   "source": [
    "### 2.3 Join brothers and sisters tuples and assign it to siblings"
   ]
  },
  {
   "cell_type": "code",
   "execution_count": 78,
   "id": "08c503e2",
   "metadata": {},
   "outputs": [
    {
     "name": "stdout",
     "output_type": "stream",
     "text": [
      "('AmirAli', 'Aria', 'Melika', 'Narges')\n"
     ]
    }
   ],
   "source": [
    "siblings = brothers + sisters\n",
    "print(siblings)"
   ]
  },
  {
   "cell_type": "markdown",
   "id": "0535d75e",
   "metadata": {},
   "source": [
    "### 2.4 How many siblings do you have?"
   ]
  },
  {
   "cell_type": "code",
   "execution_count": 80,
   "id": "db481341",
   "metadata": {},
   "outputs": [
    {
     "name": "stdout",
     "output_type": "stream",
     "text": [
      "Number of siblings: 4\n"
     ]
    }
   ],
   "source": [
    "print('Number of siblings: {0}'.format(len(siblings)))"
   ]
  },
  {
   "cell_type": "markdown",
   "id": "34372352",
   "metadata": {},
   "source": [
    "### 2.5 Modify the siblings tuple and add the name of your father and mother and assign it to family_members "
   ]
  },
  {
   "cell_type": "code",
   "execution_count": 83,
   "id": "daf2e6b3",
   "metadata": {},
   "outputs": [
    {
     "name": "stdout",
     "output_type": "stream",
     "text": [
      "('AmirAli', 'Aria', 'Melika', 'Narges', 'Negar', 'Negar')\n",
      "('AmirAli', 'Aria', 'Melika', 'Narges', 'Negar', 'Negar', 'Forough', 'Parviz')\n"
     ]
    }
   ],
   "source": [
    "#tuple is immutable so we must reassign to modify or convert it to list first\n",
    "siblings = list(siblings)\n",
    "siblings.append('Negar')\n",
    "siblings = tuple(siblings)\n",
    "print(siblings)\n",
    "family_members = siblings + ('Forough', 'Parviz')\n",
    "print(family_members)"
   ]
  },
  {
   "cell_type": "markdown",
   "id": "e623b4bc",
   "metadata": {},
   "source": [
    "# Exercise 03"
   ]
  },
  {
   "cell_type": "markdown",
   "id": "c6deef3c",
   "metadata": {},
   "source": [
    "### 3.1 Create a student dictionary and add first_name, last_name, gender, age, skills, country, city and address as keys for the dictionary "
   ]
  },
  {
   "cell_type": "code",
   "execution_count": 19,
   "id": "c8ab02e3",
   "metadata": {},
   "outputs": [],
   "source": [
    "student_info = {'first_name':'Pedram', 'last_name':'Arianmanesh', 'gender':'Male','age':'19',\n",
    "                'skills':['python', 'C language', 'Linux'], \n",
    "                'country':'Iran', 'city':'Mashhad','address':'Iran, Mashhad, Hashemiye st'}"
   ]
  },
  {
   "cell_type": "markdown",
   "id": "26b37f61",
   "metadata": {},
   "source": [
    "### 3.2 Get the length of the student dictionary "
   ]
  },
  {
   "cell_type": "code",
   "execution_count": 20,
   "id": "dc540ce8",
   "metadata": {},
   "outputs": [
    {
     "name": "stdout",
     "output_type": "stream",
     "text": [
      "8\n"
     ]
    }
   ],
   "source": [
    "print(len(student_info))"
   ]
  },
  {
   "cell_type": "markdown",
   "id": "dc10a520",
   "metadata": {},
   "source": [
    "### 3.3 Get the value of skills and check the data type, it should be a list "
   ]
  },
  {
   "cell_type": "code",
   "execution_count": 23,
   "id": "5bd4c827",
   "metadata": {},
   "outputs": [
    {
     "name": "stdout",
     "output_type": "stream",
     "text": [
      "['python', 'C language', 'Linux']\n",
      "<class 'list'>\n"
     ]
    }
   ],
   "source": [
    "print(student_info['skills'])\n",
    "print(type(student_info['skills']))"
   ]
  },
  {
   "cell_type": "markdown",
   "id": "f63fb501",
   "metadata": {},
   "source": [
    "### 3.4 Modify the skills values by adding one or two skills "
   ]
  },
  {
   "cell_type": "code",
   "execution_count": 24,
   "id": "11cd611e",
   "metadata": {},
   "outputs": [
    {
     "name": "stdout",
     "output_type": "stream",
     "text": [
      "['python', 'C language', 'Linux', 'Computer Vision', 'Image Processing']\n"
     ]
    }
   ],
   "source": [
    "student_info['skills'].extend(['Computer Vision','Image Processing'])\n",
    "print(student_info['skills'])"
   ]
  },
  {
   "cell_type": "markdown",
   "id": "ac072ee0",
   "metadata": {},
   "source": [
    "### 3.5 Get the dictionary keys as a list "
   ]
  },
  {
   "cell_type": "code",
   "execution_count": 26,
   "id": "c59f2e5f",
   "metadata": {},
   "outputs": [
    {
     "name": "stdout",
     "output_type": "stream",
     "text": [
      "['first_name', 'last_name', 'gender', 'age', 'skills', 'country', 'city', 'address']\n"
     ]
    }
   ],
   "source": [
    "dict_keys = list()\n",
    "for key in student_info:\n",
    "    dict_keys.append(key)\n",
    "print(dict_keys)"
   ]
  },
  {
   "cell_type": "markdown",
   "id": "d055644f",
   "metadata": {},
   "source": [
    "### 3.6 Get the dictionary values as a list "
   ]
  },
  {
   "cell_type": "code",
   "execution_count": 28,
   "id": "38a9e16f",
   "metadata": {},
   "outputs": [
    {
     "name": "stdout",
     "output_type": "stream",
     "text": [
      "['Pedram', 'Arianmanesh', 'Male', '19', ['python', 'C language', 'Linux', 'Computer Vision', 'Image Processing'], 'Iran', 'Mashhad', 'Iran, Mashhad, Hashemiye st']\n"
     ]
    }
   ],
   "source": [
    "dict_values = list()\n",
    "for key in student_info:\n",
    "    dict_values.append(student_info[key])\n",
    "print(dict_values)"
   ]
  },
  {
   "cell_type": "markdown",
   "id": "e489280c",
   "metadata": {},
   "source": [
    "### 3.7 Change the dictionary to a list of tuples using items() method"
   ]
  },
  {
   "cell_type": "code",
   "execution_count": 31,
   "id": "5e11c6ad",
   "metadata": {},
   "outputs": [
    {
     "name": "stdout",
     "output_type": "stream",
     "text": [
      "dict_items([('first_name', 'Pedram'), ('last_name', 'Arianmanesh'), ('gender', 'Male'), ('age', '19'), ('skills', ['python', 'C language', 'Linux', 'Computer Vision', 'Image Processing']), ('country', 'Iran'), ('city', 'Mashhad'), ('address', 'Iran, Mashhad, Hashemiye st')])\n"
     ]
    }
   ],
   "source": [
    "changed_dic = student_info.items()\n",
    "print(changed_dic)"
   ]
  },
  {
   "cell_type": "markdown",
   "id": "0e621ed4",
   "metadata": {},
   "source": [
    "### 3.8 Delete one of the items in the dictionary"
   ]
  },
  {
   "cell_type": "code",
   "execution_count": 75,
   "id": "82180db8",
   "metadata": {},
   "outputs": [
    {
     "name": "stdout",
     "output_type": "stream",
     "text": [
      "{'first_name': 'Pedram', 'last_name': 'Arianmanesh', 'gender': 'Male', 'age': '19', 'skills': ['python', 'C language', 'Linux', 'Computer Vision', 'Image Processing'], 'country': 'Iran', 'city': 'Mashhad'}\n"
     ]
    }
   ],
   "source": [
    "student_info.pop('address')\n",
    "print(student_info)"
   ]
  },
  {
   "cell_type": "markdown",
   "id": "06c1df67",
   "metadata": {},
   "source": [
    "### 3.9 Delete one of the dictionaries"
   ]
  },
  {
   "cell_type": "code",
   "execution_count": 76,
   "id": "2f30ab4d",
   "metadata": {},
   "outputs": [
    {
     "name": "stdout",
     "output_type": "stream",
     "text": [
      "{}\n"
     ]
    }
   ],
   "source": [
    "student_info.clear()\n",
    "print(student_info)"
   ]
  },
  {
   "cell_type": "markdown",
   "id": "1d6aad7e",
   "metadata": {},
   "source": [
    "# Exercise 04\n",
    "## it_companies = {'Facebook', 'Google', 'Microsoft', 'Apple', 'IBM', 'Oracle', 'Amazon'}"
   ]
  },
  {
   "cell_type": "markdown",
   "id": "77b61f75",
   "metadata": {},
   "source": [
    "### 4.1 Find the length of the set it_companies "
   ]
  },
  {
   "cell_type": "code",
   "execution_count": 13,
   "id": "1d8add46",
   "metadata": {},
   "outputs": [
    {
     "name": "stdout",
     "output_type": "stream",
     "text": [
      "7\n"
     ]
    }
   ],
   "source": [
    "it_companies = {'Facebook', 'Google', 'Microsoft', 'Apple', 'IBM', 'Oracle', 'Amazon'}\n",
    "print(len(it_companies))"
   ]
  },
  {
   "cell_type": "markdown",
   "id": "2270eb0e",
   "metadata": {},
   "source": [
    "### 4.2 Add 'Twitter' to it_companies "
   ]
  },
  {
   "cell_type": "code",
   "execution_count": 14,
   "id": "1412d27d",
   "metadata": {},
   "outputs": [
    {
     "name": "stdout",
     "output_type": "stream",
     "text": [
      "{'Facebook', 'Twitter', 'IBM', 'Oracle', 'Google', 'Microsoft', 'Apple', 'Amazon'}\n"
     ]
    }
   ],
   "source": [
    "it_companies.add('Twitter')\n",
    "print(it_companies)"
   ]
  },
  {
   "cell_type": "markdown",
   "id": "8c84a45e",
   "metadata": {},
   "source": [
    "### 4.3 Insert multiple IT companies at once to the set it_companies "
   ]
  },
  {
   "cell_type": "code",
   "execution_count": 15,
   "id": "bd3f24c5",
   "metadata": {},
   "outputs": [
    {
     "name": "stdout",
     "output_type": "stream",
     "text": [
      "{'Facebook', 'GreenWeb', 'MCI', 'Google', 'Twitter', 'IBM', 'Oracle', 'Fanap', 'Microsoft', 'Apple', 'Amazon'}\n"
     ]
    }
   ],
   "source": [
    "it_companies.update({'MCI', 'GreenWeb', 'Fanap'})\n",
    "print(it_companies)"
   ]
  },
  {
   "cell_type": "markdown",
   "id": "c792c27b",
   "metadata": {},
   "source": [
    "### 4.4 Remove one of the companies from the set it_companies"
   ]
  },
  {
   "cell_type": "code",
   "execution_count": null,
   "id": "f9d15e8c",
   "metadata": {},
   "outputs": [],
   "source": [
    "it_companies.remove('Apple')\n",
    "#or it_companies.discard('Apple')\n",
    "print(it_companies)"
   ]
  },
  {
   "cell_type": "markdown",
   "id": "f1a7bf05",
   "metadata": {},
   "source": [
    "### 4.5 What is the difference between remove and discard "
   ]
  },
  {
   "cell_type": "code",
   "execution_count": 21,
   "id": "a6ce5594",
   "metadata": {},
   "outputs": [
    {
     "name": "stdout",
     "output_type": "stream",
     "text": [
      "**********************************\n"
     ]
    },
    {
     "ename": "KeyError",
     "evalue": "'Asqar'",
     "output_type": "error",
     "traceback": [
      "\u001b[0;31m---------------------------------------------------------------------------\u001b[0m",
      "\u001b[0;31mKeyError\u001b[0m                                  Traceback (most recent call last)",
      "Cell \u001b[0;32mIn[21], line 4\u001b[0m\n\u001b[1;32m      2\u001b[0m it_companies\u001b[38;5;241m.\u001b[39mdiscard(\u001b[38;5;124m'\u001b[39m\u001b[38;5;124mAsqar\u001b[39m\u001b[38;5;124m'\u001b[39m) \u001b[38;5;66;03m#Won't show an error for this part\u001b[39;00m\n\u001b[1;32m      3\u001b[0m \u001b[38;5;28mprint\u001b[39m(\u001b[38;5;124m'\u001b[39m\u001b[38;5;124m**********************************\u001b[39m\u001b[38;5;124m'\u001b[39m)\n\u001b[0;32m----> 4\u001b[0m it_companies\u001b[38;5;241m.\u001b[39mremove(\u001b[38;5;124m'\u001b[39m\u001b[38;5;124mAsqar\u001b[39m\u001b[38;5;124m'\u001b[39m)\n",
      "\u001b[0;31mKeyError\u001b[0m: 'Asqar'"
     ]
    }
   ],
   "source": [
    "#the remove() method will raise an error if the specified item does not exist, and the discard() method won't\n",
    "it_companies.discard('Asqar') #Won't show an error for this part\n",
    "print('**********************************')\n",
    "it_companies.remove('Asqar') #Will show an error\n"
   ]
  },
  {
   "cell_type": "markdown",
   "id": "2f03aeee",
   "metadata": {},
   "source": [
    "# Exercise 05\n",
    "## (I am a teacher and I love to inspire and teach people.) How many unique words have been used in the sentence? Use the split methods and set to get the unique words."
   ]
  },
  {
   "cell_type": "code",
   "execution_count": 12,
   "id": "3441b265",
   "metadata": {},
   "outputs": [
    {
     "name": "stdout",
     "output_type": "stream",
     "text": [
      "10\n"
     ]
    }
   ],
   "source": [
    "sentence = \"I am a teacher and I love to inspire and teach people.\"\n",
    "sep_sentence = set(sentence.split(' '))\n",
    "print(len(sep_sentence))\n",
    "#Set ignores repeated elements and consider them as one element"
   ]
  },
  {
   "cell_type": "markdown",
   "id": "cbe2997e",
   "metadata": {},
   "source": [
    "# Exercise 06 \n",
    "## Write a function to Count the number of characters (characters frequency) in a string and print the result as a dictionary!"
   ]
  },
  {
   "cell_type": "code",
   "execution_count": 64,
   "id": "e6037e92",
   "metadata": {},
   "outputs": [
    {
     "name": "stdout",
     "output_type": "stream",
     "text": [
      "salam\n",
      "{'s': 1, 'a': 2, 'l': 1, 'm': 1}\n"
     ]
    }
   ],
   "source": [
    "def char_counter(in_str):\n",
    "    out_dict = {}\n",
    "    for i in in_str:\n",
    "        if i in out_dict:\n",
    "            out_dict[i] += 1 #if key is already made, means repeat of character\n",
    "        else:\n",
    "            out_dict[i] = 1 #makes key and assign 1 as its value\n",
    "    print(out_dict)\n",
    "char_counter(input())"
   ]
  },
  {
   "cell_type": "markdown",
   "id": "aea20cf6",
   "metadata": {},
   "source": [
    "# Exercise 07\n",
    "## Write a Python function to print the odd numbers from a given list."
   ]
  },
  {
   "cell_type": "code",
   "execution_count": 74,
   "id": "d2d0e54e",
   "metadata": {},
   "outputs": [
    {
     "name": "stdout",
     "output_type": "stream",
     "text": [
      "Enter number of elements : 9\n",
      "\n",
      "Enter the numbers : 1 2 3 4 5 6 7 8 9\n",
      "[1, 3, 5, 7, 9]\n"
     ]
    }
   ],
   "source": [
    "def odd_out(in_list):\n",
    "    out_list = list()\n",
    "    for i in in_list:\n",
    "        if i%2 != 0:\n",
    "            out_list.append(i)\n",
    "    print(out_list)\n",
    "n = int(input(\"Enter number of elements : \")) #number of elements of input list\n",
    "\n",
    "odd_out(list(map(int, input(\"\\nEnter the numbers : \").strip().split()))[:n]) #getting list and put it into function"
   ]
  },
  {
   "cell_type": "markdown",
   "id": "4758f6de",
   "metadata": {},
   "source": [
    "# Exercise 08\n",
    "## Write a Python function to sort a given list of dictionaries (employees) using Lambda. (Sort by age, then for same ages, sort by name)\n",
    "### employees = [{\"name\": \"Sanaz\", \"age\": 14}, {\"name\": \"AmirHossein\", \"age\": 18}, {\"name\": \"Azam\", \"age\":14}, {\"name\": \"Zahra\", \"age\": 16}, {\"name\": \"Shayan\", \"age\": 18}, {\"name\": \"Zahra\", \"age\": 17}]"
   ]
  },
  {
   "cell_type": "code",
   "execution_count": 22,
   "id": "f9c76e5b",
   "metadata": {},
   "outputs": [
    {
     "name": "stdout",
     "output_type": "stream",
     "text": [
      "[{'name': 'AmirHossein', 'age': 18}, {'name': 'Azam', 'age': 14}, {'name': 'Sanaz', 'age': 14}, {'name': 'Shayan', 'age': 18}, {'name': 'Zahra', 'age': 16}, {'name': 'Zahra', 'age': 17}]\n"
     ]
    }
   ],
   "source": [
    "employees = [{\"name\": \"Sanaz\", \"age\": 14}, {\"name\": \"AmirHossein\", \"age\": 18}, \n",
    "             {\"name\": \"Azam\", \"age\":14}, {\"name\": \"Zahra\", \"age\": 16}, {\"name\": \"Shayan\", \"age\": 18},\n",
    "             {\"name\": \"Zahra\", \"age\": 17}]\n",
    "sorted_form = sorted(employees, key=lambda x: x['age']) #sort based on age\n",
    "sorted_form = sorted(sorted_form, key=lambda x: x['name']) #second layer of sorting based on name\n",
    "print(sorted_form)"
   ]
  },
  {
   "cell_type": "markdown",
   "id": "61dbc4d0",
   "metadata": {},
   "source": [
    "# Exercise 09\n",
    "## Write a Python function to calculate first n numbers of Fibonacci sequence. (n is function input)\n",
    "#### points: \n",
    "##### Use recursion to solve the question!"
   ]
  },
  {
   "cell_type": "code",
   "execution_count": 19,
   "id": "47e3e908",
   "metadata": {},
   "outputs": [
    {
     "name": "stdout",
     "output_type": "stream",
     "text": [
      "7\n",
      "0 1 1 2 3 5 8 "
     ]
    }
   ],
   "source": [
    "def fibon(n):\n",
    "   if n <= 1:\n",
    "       return n\n",
    "   else:\n",
    "       return(fibon(n-1) + fibon(n-2))\n",
    "n = int(input())\n",
    "for i in range(n):\n",
    "    print(fibon(i),end=\" \")"
   ]
  },
  {
   "cell_type": "markdown",
   "id": "f24128ce",
   "metadata": {},
   "source": [
    "# Exercise 10\n",
    "## print the type of error and handle that.(Use specific and General Exception)\n",
    "#### dict = {'Python': 2, 'DIP': 7, 'DL': 8}\n",
    "#### print (dict['CV'])"
   ]
  },
  {
   "cell_type": "code",
   "execution_count": 32,
   "id": "b4fe6162",
   "metadata": {},
   "outputs": [
    {
     "name": "stdout",
     "output_type": "stream",
     "text": [
      "Type of error is: KeyError\n"
     ]
    }
   ],
   "source": [
    "dict = {'Python': 2, 'DIP': 7, 'DL': 8}\n",
    "try:\n",
    "    print (dict['CV'])  \n",
    "except KeyError as error:\n",
    "    print('Type of error is: KeyError')\n"
   ]
  },
  {
   "cell_type": "markdown",
   "id": "603ac3f2",
   "metadata": {},
   "source": [
    "# Exercise 11\n",
    "## print the type of error and handle that.(Use specific and General Exception)\n",
    "#### code = '45145GT'\n",
    "#### int(code)"
   ]
  },
  {
   "cell_type": "code",
   "execution_count": 31,
   "id": "b92ee4d0",
   "metadata": {},
   "outputs": [
    {
     "name": "stdout",
     "output_type": "stream",
     "text": [
      "Type of error is: ValueError\n"
     ]
    }
   ],
   "source": [
    "code = '45145GT'\n",
    "try:\n",
    "    int(code)\n",
    "except ValueError as error:\n",
    "    print('Type of error is: ValueError')"
   ]
  },
  {
   "cell_type": "markdown",
   "id": "c8d258ee",
   "metadata": {},
   "source": [
    "# Exercise 12\n",
    "## Create a txt file (name: Ex_01_Files.txt) and save the following list in the file! (save each element in the new line!)\n",
    "### [1, 7, 'test', 'apple', 'banana', 'cherry', 785, 19, 'Python', 78.0, True, 7854.15]\n",
    "#### points: \n",
    "##### Before reading file, check the file existence!\n",
    "##### Close the file, finally!"
   ]
  },
  {
   "cell_type": "code",
   "execution_count": 12,
   "id": "c0b5e30f",
   "metadata": {},
   "outputs": [],
   "source": [
    "import os\n",
    "import os.path\n",
    "check_file = os.path.isfile(\"Ex_01_Files.txt\")\n",
    "if check_file==False:\n",
    "    f = open(\"Ex_01_Files.txt\", \"x\")\n",
    "else:\n",
    "    f = open(\"Ex_01_Files.txt\", \"w\")\n",
    "list_in = [1, 7, 'test', 'apple', 'banana', 'cherry', 785, 19, 'Python', 78.0, True, 7854.15]\n",
    "for i in list_in:\n",
    "    f.write(str(i))\n",
    "    f.write('\\n')\n",
    "f.close()"
   ]
  },
  {
   "cell_type": "markdown",
   "id": "cb015d1d",
   "metadata": {},
   "source": [
    "# Exercise 13\n",
    "## Read the Ex_01_Files.txt and save and print the numbers and strings in to separated list!\n",
    "#### points:\n",
    "##### Before reading file, check the file existence!\n",
    "##### Close the file, finally!\n",
    "##### Handle FileNotFoundError error!"
   ]
  },
  {
   "cell_type": "code",
   "execution_count": 28,
   "id": "f83309eb",
   "metadata": {},
   "outputs": [
    {
     "name": "stdout",
     "output_type": "stream",
     "text": [
      "['test\\n', 'apple\\n', 'banana\\n', 'cherry\\n', 'Python\\n', 'True\\n']\n",
      "[1.0, 7.0, 785.0, 19.0, 78.0, 7854.15]\n"
     ]
    }
   ],
   "source": [
    "import os\n",
    "#we can check existence with this code after importing os.path: check_file = os.path.isfile(\"Ex_01_Files.txt\")\n",
    "try:\n",
    "    file1 = open(\"Ex_01_Files.txt\")\n",
    " \n",
    "except FileNotFoundError as error:\n",
    "    print(\"file not found\")\n",
    "str_list = list()\n",
    "num_list = list()\n",
    "for line in file1:\n",
    "    try:\n",
    "        num_list.append(float(line))\n",
    "    except:\n",
    "        str_list.append(line)\n",
    "f.close()\n",
    "print(str_list)\n",
    "print(num_list)"
   ]
  }
 ],
 "metadata": {
  "kernelspec": {
   "display_name": "Python 3 (ipykernel)",
   "language": "python",
   "name": "python3"
  },
  "language_info": {
   "codemirror_mode": {
    "name": "ipython",
    "version": 3
   },
   "file_extension": ".py",
   "mimetype": "text/x-python",
   "name": "python",
   "nbconvert_exporter": "python",
   "pygments_lexer": "ipython3",
   "version": "3.11.5"
  }
 },
 "nbformat": 4,
 "nbformat_minor": 5
}
