{
 "cells": [
  {
   "cell_type": "markdown",
   "metadata": {},
   "source": [
    "# silver_ex_python"
   ]
  },
  {
   "cell_type": "code",
   "execution_count": 36,
   "metadata": {},
   "outputs": [],
   "source": [
    "import numpy as np\n",
    "import pandas as pd"
   ]
  },
  {
   "cell_type": "markdown",
   "metadata": {},
   "source": [
    "### 1- Write a program that takes two numbers as input and calculates their sum, difference, product, and quotient."
   ]
  },
  {
   "cell_type": "code",
   "execution_count": 5,
   "metadata": {},
   "outputs": [
    {
     "name": "stdout",
     "output_type": "stream",
     "text": [
      "First_num: 24.0 Second_num: 6.0\n",
      "Sum:  30.0\n",
      "Diff:  18.0\n",
      "Prod:  144.0\n",
      "Quot:  4.0\n"
     ]
    }
   ],
   "source": [
    "first_num , second_num = map(float, input('Please enter two number separated with space:').split())\n",
    "print('First_num:', first_num, 'Second_num:', second_num)\n",
    "print('Sum: ', first_num + second_num)\n",
    "print('Diff: ', first_num - second_num)\n",
    "print('Prod: ', first_num * second_num)\n",
    "print('Quot: ', first_num / second_num)"
   ]
  },
  {
   "cell_type": "markdown",
   "metadata": {},
   "source": [
    "### 2- Write a program that takes two numbers as input and determines whether the first number is greater than, less than, or equal to the second number."
   ]
  },
  {
   "cell_type": "code",
   "execution_count": 7,
   "metadata": {},
   "outputs": [
    {
     "name": "stdout",
     "output_type": "stream",
     "text": [
      "First_num: 2.0 Second_num: 2.0\n",
      "Numbers are equal.\n"
     ]
    }
   ],
   "source": [
    "first_num , second_num = map(float, input('Please enter two number separated with space:').split())\n",
    "print('First_num:', first_num, 'Second_num:', second_num)\n",
    "if first_num < second_num:\n",
    "    print( first_num , 'is lesser than', second_num)\n",
    "elif second_num < first_num:\n",
    "    print(first_num, 'is grater than', second_num)\n",
    "else:\n",
    "    print('Numbers are equal.')"
   ]
  },
  {
   "cell_type": "markdown",
   "metadata": {},
   "source": [
    "### 3- Write a program that takes an initial value and applies different assignment operators (e.g., +=, -=, *=) to modify the value and print the result."
   ]
  },
  {
   "cell_type": "code",
   "execution_count": 8,
   "metadata": {},
   "outputs": [
    {
     "name": "stdout",
     "output_type": "stream",
     "text": [
      "Original number:  3.0\n",
      "Modified number(+3):  6.0\n",
      "Modified number(-5):  1.0\n",
      "Modified number(*2):  2.0\n"
     ]
    }
   ],
   "source": [
    "init_value = float(input())\n",
    "print('Original number: ', init_value)\n",
    "init_value += 3\n",
    "print('Modified number(+3): ', init_value)\n",
    "init_value -= 5\n",
    "print('Modified number(-5): ', init_value)\n",
    "init_value *= 2\n",
    "print('Modified number(*2): ', init_value)\n"
   ]
  },
  {
   "cell_type": "markdown",
   "metadata": {},
   "source": [
    "### 4- Write a program that takes a person's age as input and determines whether they are eligible to vote (consider the legal voting age is 18)."
   ]
  },
  {
   "cell_type": "code",
   "execution_count": 9,
   "metadata": {},
   "outputs": [
    {
     "name": "stdout",
     "output_type": "stream",
     "text": [
      "Your age: 19\n",
      "congratulations! you can vote.\n"
     ]
    }
   ],
   "source": [
    "age = int(input('Please enter your age: '))\n",
    "print('Your age:', age)\n",
    "if age < 18:\n",
    "    print(\"You can`t vote now. Please wait until 18.\")\n",
    "else:\n",
    "    print('congratulations! you can vote.')"
   ]
  },
  {
   "cell_type": "markdown",
   "metadata": {},
   "source": [
    "### 5- Write a program that takes a number as input and checks whether it is positive, negative, or zero."
   ]
  },
  {
   "cell_type": "code",
   "execution_count": 11,
   "metadata": {},
   "outputs": [
    {
     "name": "stdout",
     "output_type": "stream",
     "text": [
      "Input number:  5.0\n",
      "Positive\n"
     ]
    }
   ],
   "source": [
    "sign_num = float(input('Please enter a number: '))\n",
    "print('Input number: ', sign_num)\n",
    "if sign_num < 0:\n",
    "    print('Negative')\n",
    "elif sign_num > 0:\n",
    "    print('Positive')\n",
    "else:\n",
    "    print('Zero')"
   ]
  },
  {
   "cell_type": "markdown",
   "metadata": {},
   "source": [
    "### 6- Write a program that takes a string as input and prints each character on a separate line using a for loop."
   ]
  },
  {
   "cell_type": "code",
   "execution_count": 12,
   "metadata": {},
   "outputs": [
    {
     "name": "stdout",
     "output_type": "stream",
     "text": [
      "Input string:  Pedram\n",
      "P\n",
      "e\n",
      "d\n",
      "r\n",
      "a\n",
      "m\n"
     ]
    }
   ],
   "source": [
    "in_string = input()\n",
    "print('Input string: ', in_string)\n",
    "for i in in_string:\n",
    "    print(i)"
   ]
  },
  {
   "cell_type": "markdown",
   "metadata": {},
   "source": [
    "### 7- Write a program that takes a number as input and prints all the even numbers up to that number using a while loop."
   ]
  },
  {
   "cell_type": "code",
   "execution_count": 13,
   "metadata": {},
   "outputs": [
    {
     "name": "stdout",
     "output_type": "stream",
     "text": [
      "Input number:  10\n",
      "1 3 5 7 9 "
     ]
    }
   ],
   "source": [
    "a = int(input('Please enter number: '))\n",
    "print('Input number: ', a)\n",
    "x = 1\n",
    "while x <= a:\n",
    "    if (x%2) != 0:\n",
    "        print(x, end=\" \")\n",
    "    x += 1"
   ]
  },
  {
   "cell_type": "markdown",
   "metadata": {},
   "source": [
    "### 8- Write a program that takes a list of words and prints the length of each word that starts with the letter 'a'."
   ]
  },
  {
   "cell_type": "code",
   "execution_count": 15,
   "metadata": {},
   "outputs": [
    {
     "name": "stdout",
     "output_type": "stream",
     "text": [
      "Input list: ['arian', 'pedram', 'asqar', 'sadra', 'mohammad']\n",
      "Length of arian: 5\n",
      "Length of asqar: 5\n"
     ]
    }
   ],
   "source": [
    "in_lst = list(input().split())\n",
    "print('Input list:' , in_lst)\n",
    "for i in in_lst:\n",
    "    if i[0] == 'a':\n",
    "        print('Length of {0}: {1}'.format(i, len(i)))\n"
   ]
  },
  {
   "cell_type": "markdown",
   "metadata": {},
   "source": [
    "### 9- Create two lists of numbers and concatenate them into a single list."
   ]
  },
  {
   "cell_type": "code",
   "execution_count": 17,
   "metadata": {},
   "outputs": [
    {
     "name": "stdout",
     "output_type": "stream",
     "text": [
      "[1, 2, 3, 4, 5, 6, 7, 8, 9, 10]\n"
     ]
    }
   ],
   "source": [
    "a_list = [1, 2, 3 , 4, 5]\n",
    "b_list = [6, 7, 8, 9, 10]\n",
    "cancat_list = a_list + b_list\n",
    "print(cancat_list)"
   ]
  },
  {
   "cell_type": "markdown",
   "metadata": {},
   "source": [
    "### 10- Create a list of numbers and print the sum of the first and last elements."
   ]
  },
  {
   "cell_type": "code",
   "execution_count": 29,
   "metadata": {},
   "outputs": [
    {
     "name": "stdout",
     "output_type": "stream",
     "text": [
      "Sum of first and last elements:  7\n"
     ]
    }
   ],
   "source": [
    "list_example = [1, 3, 4 ,6 , 234 , 6]\n",
    "print('Sum of first and last elements: ', list_example[0] + list_example[-1])"
   ]
  },
  {
   "cell_type": "markdown",
   "metadata": {},
   "source": [
    "### 11- Create a list of numbers and change the value of the third element."
   ]
  },
  {
   "cell_type": "code",
   "execution_count": 21,
   "metadata": {},
   "outputs": [
    {
     "name": "stdout",
     "output_type": "stream",
     "text": [
      "[1, 2, 3, 5, 6, 7, 8, 9, 10]\n"
     ]
    }
   ],
   "source": [
    "change_list = [1, 2, 5, 5, 6, 7, 8, 9, 10]\n",
    "change_list[2] = 3\n",
    "print(change_list)"
   ]
  },
  {
   "cell_type": "markdown",
   "metadata": {},
   "source": [
    "### 12- Create a list of strings and print a sublist containing the last two elements."
   ]
  },
  {
   "cell_type": "code",
   "execution_count": 23,
   "metadata": {},
   "outputs": [
    {
     "name": "stdout",
     "output_type": "stream",
     "text": [
      "['Pedram', 'Arianmanesh']\n"
     ]
    }
   ],
   "source": [
    "u_list  = ['My', 'name', 'is', 'Pedram', 'Arianmanesh']\n",
    "sub_list = []\n",
    "sub_list.append(u_list[-2])\n",
    "sub_list.append(u_list[-1])\n",
    "print(sub_list)"
   ]
  },
  {
   "cell_type": "markdown",
   "metadata": {},
   "source": [
    "### 13- Create a tuple of strings and print the elements in reverse order."
   ]
  },
  {
   "cell_type": "code",
   "execution_count": 28,
   "metadata": {},
   "outputs": [
    {
     "name": "stdout",
     "output_type": "stream",
     "text": [
      "('third', 'second', 'first')\n"
     ]
    }
   ],
   "source": [
    "rev_tuple = ('first', 'second', 'third')\n",
    "print(rev_tuple[::-1])"
   ]
  },
  {
   "cell_type": "markdown",
   "metadata": {},
   "source": [
    "### 14- Create a tuple of numbers and calculate the sum of the first and last elements."
   ]
  },
  {
   "cell_type": "code",
   "execution_count": 31,
   "metadata": {},
   "outputs": [
    {
     "name": "stdout",
     "output_type": "stream",
     "text": [
      "Sum of first and last elements:  9\n"
     ]
    }
   ],
   "source": [
    "first_last_touple = (1, 3, 4 ,6 , 234 , 8)\n",
    "print('Sum of first and last elements: ', first_last_touple[0] + first_last_touple[-1])"
   ]
  },
  {
   "cell_type": "markdown",
   "metadata": {},
   "source": [
    "### 15- Create a tuple of numbers and change the value of the third element (Note: Tuples are immutable, so you'll need to convert it to a list, modify it, and then convert it back to a tuple)."
   ]
  },
  {
   "cell_type": "code",
   "execution_count": 33,
   "metadata": {},
   "outputs": [
    {
     "name": "stdout",
     "output_type": "stream",
     "text": [
      "(1, 2, 3, 4, 5)\n"
     ]
    }
   ],
   "source": [
    "change_tuple = (1, 2, 2, 4, 5)\n",
    "help_list = list(change_tuple)\n",
    "help_list[2] = 3\n",
    "change_tuple = tuple(help_list)\n",
    "print(change_tuple)"
   ]
  },
  {
   "cell_type": "markdown",
   "metadata": {},
   "source": [
    "### 16- Create a tuple of strings and print a subtuple containing the last two elements."
   ]
  },
  {
   "cell_type": "code",
   "execution_count": 36,
   "metadata": {},
   "outputs": [
    {
     "name": "stdout",
     "output_type": "stream",
     "text": [
      "('Pedram', 'Arianmanesh')\n"
     ]
    }
   ],
   "source": [
    "u_tuple  = ('My', 'name', 'is', 'Pedram', 'Arianmanesh')\n",
    "sub_tuple = []\n",
    "sub_tuple.append(u_tuple[-2])\n",
    "sub_tuple.append(u_tuple[-1])\n",
    "sub_tuple = tuple(sub_tuple)\n",
    "print(sub_tuple)"
   ]
  },
  {
   "cell_type": "markdown",
   "metadata": {},
   "source": [
    "### 17- Create a dictionary representing a product with keys for \"name\", \"price\", and \"quantity\". Print the dictionary."
   ]
  },
  {
   "cell_type": "code",
   "execution_count": 38,
   "metadata": {},
   "outputs": [
    {
     "name": "stdout",
     "output_type": "stream",
     "text": [
      "name : Golabi\n",
      "price : 30T per kilogram\n",
      "quantity : 30 kilogram\n"
     ]
    }
   ],
   "source": [
    "product_info = {'name':'Golabi', 'price':'30T per kilogram', 'quantity':'30 kilogram'}\n",
    "for i in product_info:\n",
    "    print(i,\":\", product_info[i]) "
   ]
  },
  {
   "cell_type": "markdown",
   "metadata": {},
   "source": [
    "### 18- Create a dictionary representing a person and print the value associated with the \"name\" key."
   ]
  },
  {
   "cell_type": "code",
   "execution_count": 39,
   "metadata": {},
   "outputs": [
    {
     "name": "stdout",
     "output_type": "stream",
     "text": [
      "Pedram\n"
     ]
    }
   ],
   "source": [
    "person_info = {'name':'Pedram', 'age':'19', 'sex':'male'}\n",
    "print(person_info['name'])"
   ]
  },
  {
   "cell_type": "markdown",
   "metadata": {},
   "source": [
    "### 19- Create a dictionary representing a product and update the value associated with the \"quantity\" key."
   ]
  },
  {
   "cell_type": "code",
   "execution_count": 40,
   "metadata": {},
   "outputs": [
    {
     "name": "stdout",
     "output_type": "stream",
     "text": [
      "50 kilogram\n"
     ]
    }
   ],
   "source": [
    "product_info = {'name':'Golabi', 'price':'30T per kilogram', 'quantity':'30 kilogram'}\n",
    "product_info['quantity'] = '50 kilogram'\n",
    "print(product_info['quantity'])"
   ]
  },
  {
   "cell_type": "markdown",
   "metadata": {},
   "source": [
    "### 20- Create an empty dictionary and add key-value pairs for \"name\" and \"age\" representing a person."
   ]
  },
  {
   "cell_type": "code",
   "execution_count": 41,
   "metadata": {},
   "outputs": [
    {
     "name": "stdout",
     "output_type": "stream",
     "text": [
      "{'name': 'Ali', 'age': 23}\n"
     ]
    }
   ],
   "source": [
    "person_empt = {}\n",
    "person_empt['name'] = 'Ali'\n",
    "person_empt['age'] = 23\n",
    "print(person_empt)"
   ]
  },
  {
   "cell_type": "markdown",
   "metadata": {},
   "source": [
    "### 21- Create a dictionary representing a product and update the value associated with the \"quantity\" key."
   ]
  },
  {
   "cell_type": "code",
   "execution_count": 42,
   "metadata": {},
   "outputs": [
    {
     "name": "stdout",
     "output_type": "stream",
     "text": [
      "50 kilogram\n"
     ]
    }
   ],
   "source": [
    "#Repetitious question\n",
    "product_info = {'name':'Golabi', 'price':'30T per kilogram', 'quantity':'30 kilogram'}\n",
    "product_info['quantity'] = '50 kilogram'\n",
    "print(product_info['quantity'])"
   ]
  },
  {
   "cell_type": "markdown",
   "metadata": {},
   "source": [
    "### 22- Create two sets of numbers and perform the union operation to combine them into a single set."
   ]
  },
  {
   "cell_type": "code",
   "execution_count": 44,
   "metadata": {},
   "outputs": [
    {
     "name": "stdout",
     "output_type": "stream",
     "text": [
      "{0, 1, 2, 3, 4, 5, 6, 7, 8}\n"
     ]
    }
   ],
   "source": [
    "set_1 = {1, 2, 4, 5, 3, 6}\n",
    "set_2 = {1, 3, 5, 6, 7, 0, 8}\n",
    "united_set = set_1.union(set_2)\n",
    "print(united_set)"
   ]
  },
  {
   "cell_type": "markdown",
   "metadata": {},
   "source": [
    "### 23-\n",
    "### a) Create a set of numbers and remove a specific element using the remove() method.\n",
    "### b)Create a set of strings and use the discard() method to remove an element that may or may not be present in the set."
   ]
  },
  {
   "cell_type": "code",
   "execution_count": 46,
   "metadata": {},
   "outputs": [
    {
     "name": "stdout",
     "output_type": "stream",
     "text": [
      "a: {1, 2, 3, 4, 5}\n",
      "b: {'Arianmanesh', 'hastam', 'Pdram'}\n"
     ]
    }
   ],
   "source": [
    "# a\n",
    "set_remove = {0, 1, 2, 3, 4, 5}\n",
    "set_remove.remove(0)\n",
    "print(\"a:\", set_remove)\n",
    "#.........................................\n",
    "#b\n",
    "set_string = {'Pdram', 'Arianmanesh', 'hastam'}\n",
    "set_string.discard('Asqar')\n",
    "print('b:', set_string)"
   ]
  },
  {
   "cell_type": "markdown",
   "metadata": {},
   "source": [
    "### 24- Create a string and repeat it multiple times using the multiplication operator."
   ]
  },
  {
   "cell_type": "code",
   "execution_count": 48,
   "metadata": {},
   "outputs": [
    {
     "name": "stdout",
     "output_type": "stream",
     "text": [
      "salam salam salam salam salam \n"
     ]
    }
   ],
   "source": [
    "rep_string = 'salam '*5\n",
    "print(rep_string)"
   ]
  },
  {
   "cell_type": "markdown",
   "metadata": {},
   "source": [
    "### 25- Create a string and print the last character."
   ]
  },
  {
   "cell_type": "code",
   "execution_count": 49,
   "metadata": {},
   "outputs": [
    {
     "name": "stdout",
     "output_type": "stream",
     "text": [
      "m\n"
     ]
    }
   ],
   "source": [
    "name = 'Pedram'\n",
    "print(name[-1])"
   ]
  },
  {
   "cell_type": "markdown",
   "metadata": {},
   "source": [
    "### 26- Create a string and print a substring using slicing."
   ]
  },
  {
   "cell_type": "code",
   "execution_count": 51,
   "metadata": {},
   "outputs": [
    {
     "name": "stdout",
     "output_type": "stream",
     "text": [
      "log\n"
     ]
    }
   ],
   "source": [
    "str_1 = 'Filoger'\n",
    "sub_str = str_1[2:-2]\n",
    "print(sub_str)"
   ]
  },
  {
   "cell_type": "markdown",
   "metadata": {},
   "source": [
    "### 27- Create a string and convert it to uppercase using the upper() method."
   ]
  },
  {
   "cell_type": "code",
   "execution_count": 53,
   "metadata": {},
   "outputs": [
    {
     "name": "stdout",
     "output_type": "stream",
     "text": [
      "SALAM\n"
     ]
    }
   ],
   "source": [
    "low_up_str = 'salam'\n",
    "low_up_str = low_up_str.upper()\n",
    "print(low_up_str)"
   ]
  },
  {
   "cell_type": "markdown",
   "metadata": {},
   "source": [
    "### 28- Write a function called calculate_area() that takes the length and width of a rectangle as arguments and returns its area."
   ]
  },
  {
   "cell_type": "code",
   "execution_count": 54,
   "metadata": {},
   "outputs": [
    {
     "name": "stdout",
     "output_type": "stream",
     "text": [
      "16\n"
     ]
    }
   ],
   "source": [
    "def calculate_area(length, width):\n",
    "    return 2*(length + width)\n",
    "print(calculate_area(5, 3))"
   ]
  },
  {
   "cell_type": "markdown",
   "metadata": {},
   "source": [
    "### 29- Write a function called add_numbers() that takes two numbers as arguments and returns their sum."
   ]
  },
  {
   "cell_type": "code",
   "execution_count": 55,
   "metadata": {},
   "outputs": [
    {
     "name": "stdout",
     "output_type": "stream",
     "text": [
      "7\n"
     ]
    }
   ],
   "source": [
    "def add_numbers(first_num, second_num):\n",
    "    return first_num + second_num\n",
    "print(add_numbers(2, 5))"
   ]
  },
  {
   "cell_type": "markdown",
   "metadata": {},
   "source": [
    "### 30- Write a function called calculate_power() that takes a number and an exponent as arguments and calculates the power of the number. If no exponent is provided, it should default to 2."
   ]
  },
  {
   "cell_type": "code",
   "execution_count": 57,
   "metadata": {},
   "outputs": [
    {
     "name": "stdout",
     "output_type": "stream",
     "text": [
      "16\n",
      "4\n"
     ]
    }
   ],
   "source": [
    "def calculate_power(num , exponent= 2):\n",
    "    return num ** exponent\n",
    "print(calculate_power(2, 4))\n",
    "print(calculate_power(2))"
   ]
  },
  {
   "cell_type": "markdown",
   "metadata": {},
   "source": [
    "### 31- Write a lambda function to check if a number is divisible by 2."
   ]
  },
  {
   "cell_type": "code",
   "execution_count": 61,
   "metadata": {},
   "outputs": [
    {
     "name": "stdout",
     "output_type": "stream",
     "text": [
      "yes\n",
      "no\n"
     ]
    }
   ],
   "source": [
    "x = lambda num: \"yes\" if num%2 == 0 else 'no'\n",
    "print(x(4))\n",
    "print(x(3))"
   ]
  },
  {
   "cell_type": "markdown",
   "metadata": {},
   "source": [
    "### 32- Write a function that takes a list of numbers as input and returns the sum of all the numbers using a loop."
   ]
  },
  {
   "cell_type": "code",
   "execution_count": 63,
   "metadata": {},
   "outputs": [
    {
     "name": "stdout",
     "output_type": "stream",
     "text": [
      "10\n"
     ]
    }
   ],
   "source": [
    "def sum_list(list):\n",
    "    sum = 0\n",
    "    for i in list:\n",
    "        sum += i\n",
    "    return sum\n",
    "num_list = [1,2,3,4]\n",
    "print(sum_list(num_list))\n"
   ]
  },
  {
   "cell_type": "markdown",
   "metadata": {},
   "source": [
    "### 33- Write a function that takes a number as input and calculates its factorial using a loop. For example, the factorial of 5 (5!) is 5 * 4 * 3 * 2 * 1 = 120."
   ]
  },
  {
   "cell_type": "code",
   "execution_count": 64,
   "metadata": {},
   "outputs": [
    {
     "name": "stdout",
     "output_type": "stream",
     "text": [
      "120\n"
     ]
    }
   ],
   "source": [
    "def factroial(n):\n",
    "    x = 1\n",
    "    for i in range(1,n+1):\n",
    "        x *= i\n",
    "    return x\n",
    "print(factroial(5))"
   ]
  },
  {
   "cell_type": "markdown",
   "metadata": {},
   "source": [
    "### 34- Write a function that takes a string as input and counts the number of vowels (a, e, i, o, u) in the string using a loop."
   ]
  },
  {
   "cell_type": "code",
   "execution_count": 66,
   "metadata": {},
   "outputs": [
    {
     "name": "stdout",
     "output_type": "stream",
     "text": [
      "2\n"
     ]
    }
   ],
   "source": [
    "def vowel_count(in_string):\n",
    "    in_string = in_string.lower()\n",
    "    vowels = ['a', 'e', 'i', 'o', 'u']\n",
    "    counter = 0\n",
    "    for i in in_string:\n",
    "        if i in vowels:\n",
    "            counter += 1\n",
    "    return counter\n",
    "print(vowel_count('Pedram'))"
   ]
  },
  {
   "cell_type": "markdown",
   "metadata": {},
   "source": [
    "### 35- Write a function that takes a number as input and prints the Fibonacci sequence up to that number using a loop. The Fibonacci sequence is a series of numbers where each number is the sum of the two preceding ones (e.g., 0, 1, 1, 2, 3, 5, 8, ...)."
   ]
  },
  {
   "cell_type": "code",
   "execution_count": 76,
   "metadata": {},
   "outputs": [
    {
     "name": "stdout",
     "output_type": "stream",
     "text": [
      "0 1 1 2 3 5 8 "
     ]
    }
   ],
   "source": [
    "def fibo_loop(n):\n",
    "    fibo_list = [0, 1]\n",
    "    for i in range(2, n+1):\n",
    "        fibo_list.append(fibo_list[i-1]+fibo_list[i-2])\n",
    "    for i in range(n):\n",
    "        print(fibo_list[i], end=' ')\n",
    "fibo_loop(7)\n"
   ]
  },
  {
   "cell_type": "markdown",
   "metadata": {},
   "source": [
    "### 36- Write a recursive function that takes a number as input and calculates its factorial. Hint:\n",
    "### The factorial of a number n can be calculated as n * factorial(n-1)."
   ]
  },
  {
   "cell_type": "code",
   "execution_count": 67,
   "metadata": {},
   "outputs": [
    {
     "name": "stdout",
     "output_type": "stream",
     "text": [
      "120\n"
     ]
    }
   ],
   "source": [
    "def factroial_recur(n):\n",
    "    if n ==1:\n",
    "        return 1\n",
    "    else:\n",
    "        return n*factroial_recur(n-1)\n",
    "print(factroial_recur(5))"
   ]
  },
  {
   "cell_type": "markdown",
   "metadata": {},
   "source": [
    "### 37- Write a recursive function that takes a number as input and returns the nth number in the Fibonacci sequence. Hint: The nth number can be calculated as fibonacci(n-1) + fibonacci(n-2)."
   ]
  },
  {
   "cell_type": "code",
   "execution_count": 111,
   "metadata": {},
   "outputs": [
    {
     "name": "stdout",
     "output_type": "stream",
     "text": [
      "8\n"
     ]
    }
   ],
   "source": [
    "def fibo_recur(n):\n",
    "    if n == 0:\n",
    "        return 0\n",
    "    elif n == 1:\n",
    "        return 1\n",
    "    else:\n",
    "        return fibo_recur(n-1) + fibo_recur(n-2)\n",
    "    \n",
    "print(fibo_recur(6))"
   ]
  },
  {
   "cell_type": "markdown",
   "metadata": {},
   "source": [
    "### 38- Write a program that takes two numbers as input and divides the first number by the second number. Handle the ZeroDivisionError exception if the second number is 0 and print an error message."
   ]
  },
  {
   "cell_type": "code",
   "execution_count": 96,
   "metadata": {},
   "outputs": [
    {
     "name": "stdout",
     "output_type": "stream",
     "text": [
      "a: 4 b: 2\n",
      "Division a, b:  2.0\n",
      "..................................\n",
      "a: 2 b: 0\n",
      "error: division by zero\n"
     ]
    }
   ],
   "source": [
    "def div_handle(a, b):\n",
    "    print('a:', a, 'b:', b)\n",
    "    try:\n",
    "        print('Division a, b: ', a/b)\n",
    "    except ZeroDivisionError as error:\n",
    "        print('error:', error)\n",
    "div_handle(4, 2)\n",
    "print('..................................')\n",
    "div_handle(2, 0)"
   ]
  },
  {
   "cell_type": "markdown",
   "metadata": {},
   "source": [
    "### 39- Write a program that reads the contents of a file specified by the user. Handle the FileNotFoundError exception and print an error message if the file does not exist."
   ]
  },
  {
   "cell_type": "code",
   "execution_count": 97,
   "metadata": {},
   "outputs": [
    {
     "name": "stdout",
     "output_type": "stream",
     "text": [
      "error: [Errno 2] No such file or directory: 'salam.txt'\n"
     ]
    }
   ],
   "source": [
    "try:\n",
    "    file = open('salam.txt', 'r')\n",
    "except FileNotFoundError as error:\n",
    "    print('error:', error)"
   ]
  },
  {
   "cell_type": "markdown",
   "metadata": {},
   "source": [
    "### 40- Write a program that asks the user to enter a positive integer. Use a while loop and exception handling to ensure that the user enters a valid integer. Handle the ValueError exception and prompt the user to enter a valid input."
   ]
  },
  {
   "cell_type": "code",
   "execution_count": 100,
   "metadata": {},
   "outputs": [
    {
     "name": "stdout",
     "output_type": "stream",
     "text": [
      "error: invalid literal for int() with base 10: '3.14'\n",
      "try again\n",
      "Input number:  2\n"
     ]
    }
   ],
   "source": [
    "while True:\n",
    "    try:\n",
    "        n = int(input('Please enter an integer number: '))\n",
    "        print('Input number: ', n)\n",
    "        break\n",
    "    except ValueError as error:\n",
    "        print('error:', error)\n",
    "        print('try again')"
   ]
  },
  {
   "cell_type": "markdown",
   "metadata": {},
   "source": [
    "### 41- Write a program that creates a list of numbers. Handle the IndexError exception and print an error message if the user tries to access an index that is out of range."
   ]
  },
  {
   "cell_type": "code",
   "execution_count": 108,
   "metadata": {},
   "outputs": [
    {
     "name": "stdout",
     "output_type": "stream",
     "text": [
      "error:  list index out of range\n"
     ]
    }
   ],
   "source": [
    "number_list = [1, 2, 3, 4, 5]\n",
    "try:\n",
    "    n = int(float(input('Please enter index: ')))\n",
    "    print(number_list[n])\n",
    "except IndexError as error:\n",
    "    print('error: ', error)"
   ]
  },
  {
   "cell_type": "markdown",
   "metadata": {},
   "source": [
    "### 42- Create a 2-dimensional NumPy array with shape (3, 3) filled with zeros"
   ]
  },
  {
   "cell_type": "code",
   "execution_count": 115,
   "metadata": {},
   "outputs": [
    {
     "name": "stdout",
     "output_type": "stream",
     "text": [
      "shape: (3, 3)\n"
     ]
    }
   ],
   "source": [
    "arr = np.array([[0,0,0],[0,0,0],[0,0,0]])\n",
    "print('shape:' ,arr.shape)"
   ]
  },
  {
   "cell_type": "markdown",
   "metadata": {},
   "source": [
    "### 43- Create two NumPy arrays of the same shape and perform element-wise addition."
   ]
  },
  {
   "cell_type": "code",
   "execution_count": 4,
   "metadata": {},
   "outputs": [
    {
     "name": "stdout",
     "output_type": "stream",
     "text": [
      "[[13 12]\n",
      " [ 3  8]]\n"
     ]
    }
   ],
   "source": [
    "np_1 = np.array([[4,5], [1,3]])\n",
    "np_2 = np.array([[9,7],[2,5]])\n",
    "addition = np.add(np_1, np_2)\n",
    "print(addition)"
   ]
  },
  {
   "cell_type": "markdown",
   "metadata": {},
   "source": [
    "### 44- Create a 2-dimensional NumPy array and print a 2x2 subarray."
   ]
  },
  {
   "cell_type": "code",
   "execution_count": 8,
   "metadata": {},
   "outputs": [
    {
     "name": "stdout",
     "output_type": "stream",
     "text": [
      "Original array:\n",
      "[[1 2 3]\n",
      " [4 5 6]\n",
      " [7 8 9]]\n",
      "\n",
      "2x2 subarray:\n",
      "[[1 2]\n",
      " [4 5]]\n"
     ]
    }
   ],
   "source": [
    "\n",
    "# Creating a 3x3 NumPy array\n",
    "arr = np.array([[1, 2, 3],\n",
    "                [4, 5, 6],\n",
    "                [7, 8, 9]])\n",
    "\n",
    "# Printing the original array\n",
    "print(\"Original array:\")\n",
    "print(arr)\n",
    "\n",
    "# Printing a 2x2 subarray\n",
    "sub_arr = arr[:2, :2]\n",
    "print(\"\\n2x2 subarray:\")\n",
    "print(sub_arr)\n"
   ]
  },
  {
   "cell_type": "markdown",
   "metadata": {},
   "source": [
    "### 45- Create a 1-dimensional NumPy array and reshape it into a 2x3 array."
   ]
  },
  {
   "cell_type": "code",
   "execution_count": 11,
   "metadata": {},
   "outputs": [
    {
     "name": "stdout",
     "output_type": "stream",
     "text": [
      "[[1 2 3]\n",
      " [4 5 6]]\n"
     ]
    }
   ],
   "source": [
    "arr = np.array([1, 2, 3, 4, 5, 6])\n",
    "reshape = arr.reshape(2, 3)\n",
    "print(reshape)\n"
   ]
  },
  {
   "cell_type": "markdown",
   "metadata": {},
   "source": [
    "### 46- Create a 2-dimensional NumPy array and calculate the mean of each column."
   ]
  },
  {
   "cell_type": "code",
   "execution_count": 13,
   "metadata": {},
   "outputs": [
    {
     "name": "stdout",
     "output_type": "stream",
     "text": [
      "[2. 3.]\n"
     ]
    }
   ],
   "source": [
    "arr_2dim = np.array([[1,2], [3, 4]])\n",
    "print(arr_2dim.mean(axis=0))"
   ]
  },
  {
   "cell_type": "markdown",
   "metadata": {},
   "source": [
    "### 47- Create a NumPy array and multiply it element-wise with a 1-dimensional array."
   ]
  },
  {
   "cell_type": "code",
   "execution_count": 16,
   "metadata": {},
   "outputs": [
    {
     "name": "stdout",
     "output_type": "stream",
     "text": [
      "[ 3  8 15]\n"
     ]
    }
   ],
   "source": [
    "arr1 = np.array([1,2,3])\n",
    "arr2 = np.array([3, 4, 5])\n",
    "multiply_arr = np.multiply(arr1, arr2)\n",
    "print(multiply_arr)"
   ]
  },
  {
   "cell_type": "markdown",
   "metadata": {},
   "source": [
    "### 48- Create a pandas DataFrame from a dictionary, where the keys represent column names and the values represent the data."
   ]
  },
  {
   "cell_type": "code",
   "execution_count": 17,
   "metadata": {},
   "outputs": [
    {
     "name": "stdout",
     "output_type": "stream",
     "text": [
      "       fruit  price per kilo\n",
      "0        sib              23\n",
      "1     golabi              40\n",
      "2  porteghal              30\n"
     ]
    }
   ],
   "source": [
    "data = {'fruit':['sib', 'golabi', 'porteghal'],\n",
    "        'price per kilo':[23, 40, 30]}\n",
    "pd_df = pd.DataFrame(data)\n",
    "print(pd_df)"
   ]
  },
  {
   "cell_type": "markdown",
   "metadata": {},
   "source": [
    "### 49- Load a dataset into a desired DataFrame and print the first few rows using the head() method."
   ]
  },
  {
   "cell_type": "code",
   "execution_count": 19,
   "metadata": {},
   "outputs": [
    {
     "name": "stdout",
     "output_type": "stream",
     "text": [
      "                                                text  label\n",
      "0  Get the latest from TODAY Sign up for our news...      1\n",
      "1  2d  Conan On The Funeral Trump Will Be Invited...      1\n",
      "2  It’s safe to say that Instagram Stories has fa...      0\n",
      "3  Much like a certain Amazon goddess with a lass...      0\n",
      "4  At a time when the perfect outfit is just one ...      0\n",
      "5  When Reese Witherspoon was 17, she had already...      0\n",
      "6  It’s official! WAGS Miami stars Ashley Nicole ...      0\n",
      "7  On March 24, 2018, one month and ten days afte...      1\n",
      "8  A mosque in Georgia is under fire after they s...      1\n",
      "9  Scott Disick is sticking up for Khloe Kardashi...      1\n"
     ]
    }
   ],
   "source": [
    "df = pd.read_csv('fakenews.csv')\n",
    "print(df.head(10))"
   ]
  },
  {
   "cell_type": "markdown",
   "metadata": {},
   "source": [
    "### 50- Select a specific column from the DataFrame using square brackets notation."
   ]
  },
  {
   "cell_type": "code",
   "execution_count": 23,
   "metadata": {},
   "outputs": [
    {
     "name": "stdout",
     "output_type": "stream",
     "text": [
      "0       Get the latest from TODAY Sign up for our news...\n",
      "1       2d  Conan On The Funeral Trump Will Be Invited...\n",
      "2       It’s safe to say that Instagram Stories has fa...\n",
      "3       Much like a certain Amazon goddess with a lass...\n",
      "4       At a time when the perfect outfit is just one ...\n",
      "                              ...                        \n",
      "4981    The storybook romance of WWE stars John Cena a...\n",
      "4982    The actor told friends he’s responsible for en...\n",
      "4983    Sarah Hyland is getting real.  The Modern Fami...\n",
      "4984    Production has been suspended on the sixth and...\n",
      "4985    A jury ruled against Bill Cosby in his sexual ...\n",
      "Name: text, Length: 4986, dtype: object\n"
     ]
    }
   ],
   "source": [
    "selected = df['text']\n",
    "print(selected)"
   ]
  },
  {
   "cell_type": "markdown",
   "metadata": {},
   "source": [
    "### 51- Sort the DataFrame based on a specific column"
   ]
  },
  {
   "cell_type": "code",
   "execution_count": 33,
   "metadata": {},
   "outputs": [
    {
     "name": "stdout",
     "output_type": "stream",
     "text": [
      "       fruit  price per kilo\n",
      "0        sib              23\n",
      "2  porteghal              30\n",
      "1     golabi              40\n"
     ]
    }
   ],
   "source": [
    "pd_sort  = pd_df.sort_values(by=['price per kilo'])\n",
    "print(pd_sort)"
   ]
  },
  {
   "cell_type": "markdown",
   "metadata": {},
   "source": [
    "### 52- Check for missing values in the DataFrame using the isnull() method."
   ]
  },
  {
   "cell_type": "code",
   "execution_count": 37,
   "metadata": {},
   "outputs": [
    {
     "name": "stdout",
     "output_type": "stream",
     "text": [
      "0       False\n",
      "1       False\n",
      "2       False\n",
      "3       False\n",
      "4       False\n",
      "        ...  \n",
      "4981    False\n",
      "4982    False\n",
      "4983    False\n",
      "4984    False\n",
      "4985    False\n",
      "Name: text, Length: 4986, dtype: bool\n"
     ]
    }
   ],
   "source": [
    "print(selected.isnull())"
   ]
  },
  {
   "cell_type": "markdown",
   "metadata": {},
   "source": [
    "### 53- Group the DataFrame by a specific column and calculate the mean, sum, or count of another column."
   ]
  },
  {
   "cell_type": "code",
   "execution_count": 60,
   "metadata": {},
   "outputs": [
    {
     "data": {
      "text/html": [
       "<div>\n",
       "<style scoped>\n",
       "    .dataframe tbody tr th:only-of-type {\n",
       "        vertical-align: middle;\n",
       "    }\n",
       "\n",
       "    .dataframe tbody tr th {\n",
       "        vertical-align: top;\n",
       "    }\n",
       "\n",
       "    .dataframe thead th {\n",
       "        text-align: right;\n",
       "    }\n",
       "</style>\n",
       "<table border=\"1\" class=\"dataframe\">\n",
       "  <thead>\n",
       "    <tr style=\"text-align: right;\">\n",
       "      <th></th>\n",
       "      <th>PassengerId</th>\n",
       "      <th>Survived</th>\n",
       "      <th>Pclass</th>\n",
       "      <th>Sex</th>\n",
       "      <th>Age</th>\n",
       "      <th>SibSp</th>\n",
       "      <th>Parch</th>\n",
       "      <th>Ticket</th>\n",
       "      <th>Fare</th>\n",
       "      <th>Cabin</th>\n",
       "      <th>Embarked</th>\n",
       "    </tr>\n",
       "    <tr>\n",
       "      <th>Name</th>\n",
       "      <th></th>\n",
       "      <th></th>\n",
       "      <th></th>\n",
       "      <th></th>\n",
       "      <th></th>\n",
       "      <th></th>\n",
       "      <th></th>\n",
       "      <th></th>\n",
       "      <th></th>\n",
       "      <th></th>\n",
       "      <th></th>\n",
       "    </tr>\n",
       "  </thead>\n",
       "  <tbody>\n",
       "    <tr>\n",
       "      <th>Abbing, Mr. Anthony</th>\n",
       "      <td>846</td>\n",
       "      <td>0</td>\n",
       "      <td>3</td>\n",
       "      <td>male</td>\n",
       "      <td>42.0</td>\n",
       "      <td>0</td>\n",
       "      <td>0</td>\n",
       "      <td>C.A. 5547</td>\n",
       "      <td>7.5500</td>\n",
       "      <td>None</td>\n",
       "      <td>S</td>\n",
       "    </tr>\n",
       "    <tr>\n",
       "      <th>Abbott, Mr. Rossmore Edward</th>\n",
       "      <td>747</td>\n",
       "      <td>0</td>\n",
       "      <td>3</td>\n",
       "      <td>male</td>\n",
       "      <td>16.0</td>\n",
       "      <td>1</td>\n",
       "      <td>1</td>\n",
       "      <td>C.A. 2673</td>\n",
       "      <td>20.2500</td>\n",
       "      <td>None</td>\n",
       "      <td>S</td>\n",
       "    </tr>\n",
       "    <tr>\n",
       "      <th>Abbott, Mrs. Stanton (Rosa Hunt)</th>\n",
       "      <td>280</td>\n",
       "      <td>1</td>\n",
       "      <td>3</td>\n",
       "      <td>female</td>\n",
       "      <td>35.0</td>\n",
       "      <td>1</td>\n",
       "      <td>1</td>\n",
       "      <td>C.A. 2673</td>\n",
       "      <td>20.2500</td>\n",
       "      <td>None</td>\n",
       "      <td>S</td>\n",
       "    </tr>\n",
       "    <tr>\n",
       "      <th>Abelson, Mr. Samuel</th>\n",
       "      <td>309</td>\n",
       "      <td>0</td>\n",
       "      <td>2</td>\n",
       "      <td>male</td>\n",
       "      <td>30.0</td>\n",
       "      <td>1</td>\n",
       "      <td>0</td>\n",
       "      <td>P/PP 3381</td>\n",
       "      <td>24.0000</td>\n",
       "      <td>None</td>\n",
       "      <td>C</td>\n",
       "    </tr>\n",
       "    <tr>\n",
       "      <th>Abelson, Mrs. Samuel (Hannah Wizosky)</th>\n",
       "      <td>875</td>\n",
       "      <td>1</td>\n",
       "      <td>2</td>\n",
       "      <td>female</td>\n",
       "      <td>28.0</td>\n",
       "      <td>1</td>\n",
       "      <td>0</td>\n",
       "      <td>P/PP 3381</td>\n",
       "      <td>24.0000</td>\n",
       "      <td>None</td>\n",
       "      <td>C</td>\n",
       "    </tr>\n",
       "    <tr>\n",
       "      <th>...</th>\n",
       "      <td>...</td>\n",
       "      <td>...</td>\n",
       "      <td>...</td>\n",
       "      <td>...</td>\n",
       "      <td>...</td>\n",
       "      <td>...</td>\n",
       "      <td>...</td>\n",
       "      <td>...</td>\n",
       "      <td>...</td>\n",
       "      <td>...</td>\n",
       "      <td>...</td>\n",
       "    </tr>\n",
       "    <tr>\n",
       "      <th>de Mulder, Mr. Theodore</th>\n",
       "      <td>287</td>\n",
       "      <td>1</td>\n",
       "      <td>3</td>\n",
       "      <td>male</td>\n",
       "      <td>30.0</td>\n",
       "      <td>0</td>\n",
       "      <td>0</td>\n",
       "      <td>345774</td>\n",
       "      <td>9.5000</td>\n",
       "      <td>None</td>\n",
       "      <td>S</td>\n",
       "    </tr>\n",
       "    <tr>\n",
       "      <th>de Pelsmaeker, Mr. Alfons</th>\n",
       "      <td>283</td>\n",
       "      <td>0</td>\n",
       "      <td>3</td>\n",
       "      <td>male</td>\n",
       "      <td>16.0</td>\n",
       "      <td>0</td>\n",
       "      <td>0</td>\n",
       "      <td>345778</td>\n",
       "      <td>9.5000</td>\n",
       "      <td>None</td>\n",
       "      <td>S</td>\n",
       "    </tr>\n",
       "    <tr>\n",
       "      <th>del Carlo, Mr. Sebastiano</th>\n",
       "      <td>362</td>\n",
       "      <td>0</td>\n",
       "      <td>2</td>\n",
       "      <td>male</td>\n",
       "      <td>29.0</td>\n",
       "      <td>1</td>\n",
       "      <td>0</td>\n",
       "      <td>SC/PARIS 2167</td>\n",
       "      <td>27.7208</td>\n",
       "      <td>None</td>\n",
       "      <td>C</td>\n",
       "    </tr>\n",
       "    <tr>\n",
       "      <th>van Billiard, Mr. Austin Blyler</th>\n",
       "      <td>154</td>\n",
       "      <td>0</td>\n",
       "      <td>3</td>\n",
       "      <td>male</td>\n",
       "      <td>40.5</td>\n",
       "      <td>0</td>\n",
       "      <td>2</td>\n",
       "      <td>A/5. 851</td>\n",
       "      <td>14.5000</td>\n",
       "      <td>None</td>\n",
       "      <td>S</td>\n",
       "    </tr>\n",
       "    <tr>\n",
       "      <th>van Melkebeke, Mr. Philemon</th>\n",
       "      <td>869</td>\n",
       "      <td>0</td>\n",
       "      <td>3</td>\n",
       "      <td>male</td>\n",
       "      <td>NaN</td>\n",
       "      <td>0</td>\n",
       "      <td>0</td>\n",
       "      <td>345777</td>\n",
       "      <td>9.5000</td>\n",
       "      <td>None</td>\n",
       "      <td>S</td>\n",
       "    </tr>\n",
       "  </tbody>\n",
       "</table>\n",
       "<p>891 rows × 11 columns</p>\n",
       "</div>"
      ],
      "text/plain": [
       "                                       PassengerId  Survived  Pclass     Sex  \\\n",
       "Name                                                                           \n",
       "Abbing, Mr. Anthony                            846         0       3    male   \n",
       "Abbott, Mr. Rossmore Edward                    747         0       3    male   \n",
       "Abbott, Mrs. Stanton (Rosa Hunt)               280         1       3  female   \n",
       "Abelson, Mr. Samuel                            309         0       2    male   \n",
       "Abelson, Mrs. Samuel (Hannah Wizosky)          875         1       2  female   \n",
       "...                                            ...       ...     ...     ...   \n",
       "de Mulder, Mr. Theodore                        287         1       3    male   \n",
       "de Pelsmaeker, Mr. Alfons                      283         0       3    male   \n",
       "del Carlo, Mr. Sebastiano                      362         0       2    male   \n",
       "van Billiard, Mr. Austin Blyler                154         0       3    male   \n",
       "van Melkebeke, Mr. Philemon                    869         0       3    male   \n",
       "\n",
       "                                        Age  SibSp  Parch         Ticket  \\\n",
       "Name                                                                       \n",
       "Abbing, Mr. Anthony                    42.0      0      0      C.A. 5547   \n",
       "Abbott, Mr. Rossmore Edward            16.0      1      1      C.A. 2673   \n",
       "Abbott, Mrs. Stanton (Rosa Hunt)       35.0      1      1      C.A. 2673   \n",
       "Abelson, Mr. Samuel                    30.0      1      0      P/PP 3381   \n",
       "Abelson, Mrs. Samuel (Hannah Wizosky)  28.0      1      0      P/PP 3381   \n",
       "...                                     ...    ...    ...            ...   \n",
       "de Mulder, Mr. Theodore                30.0      0      0         345774   \n",
       "de Pelsmaeker, Mr. Alfons              16.0      0      0         345778   \n",
       "del Carlo, Mr. Sebastiano              29.0      1      0  SC/PARIS 2167   \n",
       "van Billiard, Mr. Austin Blyler        40.5      0      2       A/5. 851   \n",
       "van Melkebeke, Mr. Philemon             NaN      0      0         345777   \n",
       "\n",
       "                                          Fare Cabin Embarked  \n",
       "Name                                                           \n",
       "Abbing, Mr. Anthony                     7.5500  None        S  \n",
       "Abbott, Mr. Rossmore Edward            20.2500  None        S  \n",
       "Abbott, Mrs. Stanton (Rosa Hunt)       20.2500  None        S  \n",
       "Abelson, Mr. Samuel                    24.0000  None        C  \n",
       "Abelson, Mrs. Samuel (Hannah Wizosky)  24.0000  None        C  \n",
       "...                                        ...   ...      ...  \n",
       "de Mulder, Mr. Theodore                 9.5000  None        S  \n",
       "de Pelsmaeker, Mr. Alfons               9.5000  None        S  \n",
       "del Carlo, Mr. Sebastiano              27.7208  None        C  \n",
       "van Billiard, Mr. Austin Blyler        14.5000  None        S  \n",
       "van Melkebeke, Mr. Philemon             9.5000  None        S  \n",
       "\n",
       "[891 rows x 11 columns]"
      ]
     },
     "execution_count": 60,
     "metadata": {},
     "output_type": "execute_result"
    }
   ],
   "source": [
    "titanic = pd.read_csv('titanic.csv')\n",
    "g_titanic = titanic.groupby('Name')\n",
    "g_titanic.first()"
   ]
  },
  {
   "cell_type": "code",
   "execution_count": 64,
   "metadata": {},
   "outputs": [
    {
     "name": "stdout",
     "output_type": "stream",
     "text": [
      "mean of ages:  29.69911764705882\n"
     ]
    }
   ],
   "source": [
    "mean = titanic['Age'].mean()\n",
    "print('mean of ages: ', mean)"
   ]
  },
  {
   "cell_type": "code",
   "execution_count": 65,
   "metadata": {},
   "outputs": [
    {
     "name": "stdout",
     "output_type": "stream",
     "text": [
      "sum of survived:  342\n"
     ]
    }
   ],
   "source": [
    "titanic_sum = titanic['Survived'].sum()\n",
    "print('sum of survived: ', titanic_sum)"
   ]
  },
  {
   "cell_type": "code",
   "execution_count": 66,
   "metadata": {},
   "outputs": [
    {
     "data": {
      "text/plain": [
       "PassengerId    891\n",
       "Survived       891\n",
       "Pclass         891\n",
       "Name           891\n",
       "Sex            891\n",
       "Age            714\n",
       "SibSp          891\n",
       "Parch          891\n",
       "Ticket         891\n",
       "Fare           891\n",
       "Cabin          204\n",
       "Embarked       889\n",
       "dtype: int64"
      ]
     },
     "execution_count": 66,
     "metadata": {},
     "output_type": "execute_result"
    }
   ],
   "source": [
    "titanic.count()"
   ]
  }
 ],
 "metadata": {
  "kernelspec": {
   "display_name": "base",
   "language": "python",
   "name": "python3"
  },
  "language_info": {
   "codemirror_mode": {
    "name": "ipython",
    "version": 3
   },
   "file_extension": ".py",
   "mimetype": "text/x-python",
   "name": "python",
   "nbconvert_exporter": "python",
   "pygments_lexer": "ipython3",
   "version": "3.11.7"
  }
 },
 "nbformat": 4,
 "nbformat_minor": 2
}
