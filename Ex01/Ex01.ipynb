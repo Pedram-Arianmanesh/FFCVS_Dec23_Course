{
 "cells": [
  {
   "cell_type": "markdown",
   "id": "62dd7319",
   "metadata": {},
   "source": [
    "# 01 What is the type of the following data?"
   ]
  },
  {
   "cell_type": "code",
   "execution_count": 1,
   "id": "1416dda3",
   "metadata": {},
   "outputs": [
    {
     "name": "stdout",
     "output_type": "stream",
     "text": [
      "<class 'str'>\n",
      "<class 'str'>\n",
      "<class 'int'>\n",
      "<class 'float'>\n",
      "<class 'bool'>\n"
     ]
    }
   ],
   "source": [
    "print(type(\"Filoger\"))\n",
    "print(type(\"19.0\"))\n",
    "print(type(18))\n",
    "print(type(13.0))\n",
    "print(type(True))"
   ]
  },
  {
   "cell_type": "markdown",
   "id": "876fbfd2",
   "metadata": {},
   "source": [
    "# 02 Convert the following data to integer?"
   ]
  },
  {
   "cell_type": "code",
   "execution_count": 7,
   "id": "06ff1adc",
   "metadata": {},
   "outputs": [
    {
     "name": "stdout",
     "output_type": "stream",
     "text": [
      "19\n",
      "18\n",
      "13\n",
      "1\n"
     ]
    }
   ],
   "source": [
    "#print(float(\"Filoger\")) #It can`t be converted to integer\n",
    "#print(int(\"19.0\")) #It must convert to float first \n",
    "print(int(float(\"19.0\")))\n",
    "print(int(18)) #This one was already integer\n",
    "print(int(13.0))\n",
    "print(int(True))"
   ]
  },
  {
   "cell_type": "markdown",
   "id": "92e0bc98",
   "metadata": {},
   "source": [
    "# 03 Print running time of program to find type of the following data ?"
   ]
  },
  {
   "cell_type": "code",
   "execution_count": 39,
   "id": "5b2ddd13",
   "metadata": {},
   "outputs": [
    {
     "name": "stdout",
     "output_type": "stream",
     "text": [
      "<class 'str'>\n",
      "The time of execution of above program is :0.09036064147949219 ms\n",
      "\n",
      "<class 'str'>\n",
      "The time of execution of above program is :0.06914138793945312 ms\n",
      "\n",
      "<class 'int'>\n",
      "The time of execution of above program is :0.0591278076171875 ms\n",
      "\n",
      "<class 'float'>\n",
      "The time of execution of above program is :0.04649162292480469 ms\n",
      "\n",
      "<class 'bool'>\n",
      "The time of execution of above program is :0.043392181396484375 ms\n",
      "\n"
     ]
    }
   ],
   "source": [
    "import time\n",
    "start = time.time()\n",
    "print(type(\"Filoger\"))\n",
    "end = time.time()\n",
    "print((\"The time of execution of above program is:{0}\").format((end - start)*10**3) + \" ms\", end=\"\\n\\n\")\n",
    "\n",
    "start = time.time()\n",
    "print(type(\"19.0\"))\n",
    "end = time.time()\n",
    "print((\"The time of execution of above program is:{0}\").format((end - start)*10**3) + \" ms\", end=\"\\n\\n\")\n",
    "\n",
    "start = time.time()\n",
    "print(type(18))\n",
    "end = time.time()\n",
    "print((\"The time of execution of above program is:{0}\").format((end - start)*10**3) + \" ms\", end=\"\\n\\n\")\n",
    "\n",
    "start = time.time()\n",
    "print(type(13.0))\n",
    "end = time.time()\n",
    "print((\"The time of execution of above program is:{0}\").format((end - start)*10**3) + \" ms\", end=\"\\n\\n\")\n",
    "\n",
    "start = time.time()\n",
    "print(type(True))\n",
    "end = time.time()\n",
    "print((\"The time of execution of above program is:{0}\").format((end - start)*10**3) + \" ms\", end=\"\\n\\n\")\n"
   ]
  },
  {
   "cell_type": "markdown",
   "id": "bb7d4f3f",
   "metadata": {},
   "source": [
    "# 04 Get a number as circle diameter, and calculate the circle area!"
   ]
  },
  {
   "cell_type": "code",
   "execution_count": 5,
   "id": "7688dd6e",
   "metadata": {},
   "outputs": [
    {
     "name": "stdout",
     "output_type": "stream",
     "text": [
      "Please enter diameter:18\n",
      "Circle area is 254.469\n"
     ]
    }
   ],
   "source": [
    "import math\n",
    "diameter = float(input('Please enter diameter:'))\n",
    "print('Circle area is {0:.3f}'.format((diameter/2)**2*(math.pi)))"
   ]
  },
  {
   "cell_type": "markdown",
   "id": "ac9a7803",
   "metadata": {},
   "source": [
    "# 05 Get width, height and length ,then calculate and print the surface area and volume of a cuboid!"
   ]
  },
  {
   "cell_type": "code",
   "execution_count": 4,
   "id": "9269903d",
   "metadata": {},
   "outputs": [
    {
     "name": "stdout",
     "output_type": "stream",
     "text": [
      "Please enter width, height and lenght in one line(separate with space):18 4 5\n",
      "Volume of cuboid is 360.00 and Surface area of cuboid is 364.000!\n"
     ]
    }
   ],
   "source": [
    "width,height,lenght=map(float,input(\"Please enter width, height and lenght in one line(separated with space):\").split())\n",
    "print('Volume of cuboid is {0:.2f} and Surface area of cuboid is {1:.3f}!'.format(width*height*lenght,2*(width*lenght+width*height+lenght*height)))\n"
   ]
  },
  {
   "cell_type": "markdown",
   "id": "1e111c2b",
   "metadata": {},
   "source": [
    "# 06 input(2 number) and print sum, division, subtraction, multiplication"
   ]
  },
  {
   "cell_type": "code",
   "execution_count": 9,
   "id": "ddc7ef94",
   "metadata": {},
   "outputs": [
    {
     "name": "stdout",
     "output_type": "stream",
     "text": [
      "Please enter two number in one line(separated with space):8 4\n",
      "sum = 12, division=2, subtraction=4, multiplication=32\n"
     ]
    }
   ],
   "source": [
    "first, second = map(float,input('Please enter two number in one line(separated with space):').split())\n",
    "print('sum = {0:.0f}, division={1:.0f}, subtraction={2:.0f}, multiplication={3:.0f}'.format(first+second,first/second,first-second,first*second))"
   ]
  },
  {
   "cell_type": "markdown",
   "id": "0737fd56",
   "metadata": {},
   "source": [
    "# 07 Get two string, concatenate them and print the result!"
   ]
  },
  {
   "cell_type": "code",
   "execution_count": 2,
   "id": "e8b60c10",
   "metadata": {},
   "outputs": [
    {
     "name": "stdout",
     "output_type": "stream",
     "text": [
      "Please enter first string:string_1\n",
      "Please enter second string:string_2\n",
      "result is \"string_1 string_2\"\n"
     ]
    }
   ],
   "source": [
    "input_1 = input('Please enter first string:')\n",
    "input_2 = input('Please enter second string:')\n",
    "print('result is \"{0} {1}\"'.format(input_1,input_2))"
   ]
  },
  {
   "cell_type": "markdown",
   "id": "db517a4f",
   "metadata": {},
   "source": [
    "# 08 Write a Python program to convert Fahrenheit to Celcius."
   ]
  },
  {
   "cell_type": "code",
   "execution_count": 6,
   "id": "da5a329f",
   "metadata": {},
   "outputs": [
    {
     "name": "stdout",
     "output_type": "stream",
     "text": [
      "Please enter Fahrenheit degree:86\n",
      "86 degree Fahrenheit is equal to 30.0 degree Celsius.\n"
     ]
    }
   ],
   "source": [
    "fahrenheit = float(input('Please enter Fahrenheit degree:'))\n",
    "celcius = (fahrenheit-32)*(5/9)\n",
    "print(\"{0:.0f} degree Fahrenheit is equal to {1:.1f} degree Celsius.\".format(fahrenheit,celcius))"
   ]
  },
  {
   "cell_type": "markdown",
   "id": "b5d1398d",
   "metadata": {},
   "source": [
    "# 09 Find the max element of the [ 8, 120, 83, 89, 24, 97.5, 201 ]"
   ]
  },
  {
   "cell_type": "code",
   "execution_count": 7,
   "id": "41e7cc44",
   "metadata": {},
   "outputs": [
    {
     "name": "stdout",
     "output_type": "stream",
     "text": [
      "201\n"
     ]
    }
   ],
   "source": [
    "lst = [ 8, 120, 83, 89, 24, 97.5, 201 ]\n",
    "print(max(lst))"
   ]
  },
  {
   "cell_type": "markdown",
   "id": "3a30ac85",
   "metadata": {},
   "source": [
    "# 10 Write a program in Python to display the Factorial of a number."
   ]
  },
  {
   "cell_type": "code",
   "execution_count": 12,
   "id": "096b72aa",
   "metadata": {},
   "outputs": [
    {
     "name": "stdout",
     "output_type": "stream",
     "text": [
      "Please enter number:9\n",
      "Factorial of 9 is 362880!\n"
     ]
    }
   ],
   "source": [
    "in_num = int(input('Please enter number:'))\n",
    "fact = 1\n",
    "for i in range(1,in_num+1):\n",
    "    fact *= i\n",
    "print('Factorial of {0} is {1}!'.format(in_num,fact))"
   ]
  },
  {
   "cell_type": "markdown",
   "id": "9028abb4",
   "metadata": {},
   "source": [
    "# 11 Generate random integer number and Write a program to guess the number."
   ]
  },
  {
   "cell_type": "code",
   "execution_count": 9,
   "id": "cd75d770",
   "metadata": {},
   "outputs": [
    {
     "name": "stdout",
     "output_type": "stream",
     "text": [
      "Enter your guess from range of [1,100]:8\n",
      "Wrong, Guess the higher number!\n",
      "Enter your guess:10\n",
      "Wrong, Guess the higher number!\n",
      "Enter your guess:20\n",
      "Wrong, Guess the higher number!\n",
      "Enter your guess:30\n",
      "Wrong, Guess the higher number!\n",
      "Enter your guess:40\n",
      "Wrong, Guess the higher number!\n",
      "Enter your guess:50\n",
      "Correct, good job\n"
     ]
    }
   ],
   "source": [
    "import random\n",
    "guess = int(input('Enter your guess from range of [1,100]:'))\n",
    "rand = random.randint(1,100) # I considered that your wanted range is [1,100] not (1,100)\n",
    "while (guess != rand):\n",
    "    if guess > rand:\n",
    "        print(\"Wrong, Guess the lower number!\")\n",
    "        guess = int(input('Enter your guess:'))\n",
    "    else:\n",
    "        print(\"Wrong, Guess the higher number!\")\n",
    "        guess = int(input('Enter your guess:'))\n",
    "print(\"Correct, good job\")"
   ]
  },
  {
   "cell_type": "markdown",
   "id": "9f7a2f91",
   "metadata": {},
   "source": [
    "# 12 Print the following pattern using loops.\n",
    "0 x 0 = 0 \n",
    "1 x 1 = 1\n",
    "2 x 2 = 4\n",
    "3 x 3 = 9\n",
    "4 x 4 = 16\n",
    "5 x 5 = 25\n",
    "6 x 6 = 36\n",
    "7 x 7 = 49\n",
    "8 x 8 = 64\n",
    "9 x 9 = 81\n",
    "10 x 10 = 100\n",
    "150"
   ]
  },
  {
   "cell_type": "code",
   "execution_count": 8,
   "id": "c919de1c",
   "metadata": {},
   "outputs": [
    {
     "name": "stdout",
     "output_type": "stream",
     "text": [
      "1x1=1\n",
      "2x2=4\n",
      "3x3=9\n",
      "4x4=16\n",
      "5x5=25\n",
      "6x6=36\n",
      "7x7=49\n",
      "8x8=64\n",
      "9x9=81\n",
      "10x10=100\n"
     ]
    }
   ],
   "source": [
    "for i in range(1,11):\n",
    "    print('{0}x{0}={1}'.format(i,i*i))"
   ]
  },
  {
   "cell_type": "markdown",
   "id": "c874f1f5",
   "metadata": {},
   "source": [
    "# 13 Use for loop to iterate from 0 to n (input number) and print the sum of all numbers."
   ]
  },
  {
   "cell_type": "code",
   "execution_count": 11,
   "id": "81558ad2",
   "metadata": {},
   "outputs": [
    {
     "name": "stdout",
     "output_type": "stream",
     "text": [
      "Please enter a number:100\n",
      "The sum of all numbers is 5050.\n"
     ]
    }
   ],
   "source": [
    "in_num = int(input('Please enter a number:'))\n",
    "_sum = 0\n",
    "for i in range(in_num+1):\n",
    "    _sum += i\n",
    "print('The sum of all numbers is {0}.'.format(_sum))\n",
    "    \n"
   ]
  },
  {
   "cell_type": "markdown",
   "id": "8d70d6d3",
   "metadata": {},
   "source": [
    "# 14 This is a fruit list, ['banana', 'orange', 'mango', 'lemon'] reverse the order using loop."
   ]
  },
  {
   "cell_type": "code",
   "execution_count": 5,
   "id": "08f595a2",
   "metadata": {},
   "outputs": [
    {
     "name": "stdout",
     "output_type": "stream",
     "text": [
      "['lemon', 'mango', 'orange', 'banana']\n"
     ]
    }
   ],
   "source": [
    "fruit_list = ['banana', 'orange', 'mango', 'lemon']\n",
    "for i in range (0,4):\n",
    "    fruit_list.append(fruit_list[3-i])\n",
    "    fruit_list.remove(fruit_list[3-i]) # Remove method removes first similar element\n",
    "print(fruit_list)\n",
    "# Another way is This: print(fruit_list[::-1])"
   ]
  }
 ],
 "metadata": {
  "kernelspec": {
   "display_name": "Python 3 (ipykernel)",
   "language": "python",
   "name": "python3"
  },
  "language_info": {
   "codemirror_mode": {
    "name": "ipython",
    "version": 3
   },
   "file_extension": ".py",
   "mimetype": "text/x-python",
   "name": "python",
   "nbconvert_exporter": "python",
   "pygments_lexer": "ipython3",
   "version": "3.11.5"
  }
 },
 "nbformat": 4,
 "nbformat_minor": 5
}
